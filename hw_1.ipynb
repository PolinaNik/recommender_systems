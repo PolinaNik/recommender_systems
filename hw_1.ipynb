{
  "cells": [
    {
      "attachments": {},
      "cell_type": "markdown",
      "id": "24ad50c4",
      "metadata": {},
      "source": [
        "Выполнила Моисеенкова Полина"
      ]
    },
    {
      "cell_type": "markdown",
      "id": "425a10d7-caa9-4f84-abff-f528aeb4ab80",
      "metadata": {
        "id": "425a10d7-caa9-4f84-abff-f528aeb4ab80"
      },
      "source": [
        "# Домашнее задание №1\n",
        "\n",
        "На семинаре мы проходили метрики, необходимо реализовать некоторые из них"
      ]
    },
    {
      "cell_type": "code",
      "execution_count": 1,
      "id": "6f4acf2d-e8a0-469a-8463-6dc26521c554",
      "metadata": {
        "id": "6f4acf2d-e8a0-469a-8463-6dc26521c554"
      },
      "outputs": [],
      "source": [
        "import numpy as np\n",
        "import pandas as pd"
      ]
    },
    {
      "cell_type": "markdown",
      "id": "38a80a25-4ea6-49c9-a0f4-c7fc2a80dcc1",
      "metadata": {
        "id": "38a80a25-4ea6-49c9-a0f4-c7fc2a80dcc1"
      },
      "source": [
        "## Задание 1. Реализовать метрики Recall@k и  Money Recall@k\n",
        "\n",
        "*Recall* - доля рекомендованных товаров среди релевантных = Какой % купленных товаров был среди рекомендованных\n",
        "\n",
        "$$\\Large Recall@K(i) = \\frac {\\sum_{j=1}^{K}\\mathbb{1}_{r_{ij}}}{|Rel_i|}$$\n",
        "\n",
        "$\\Large |Rel_i|$ -- количество релевантных товаров для пользователя $i$\n",
        "\n",
        "$$\\Large MoneyRecall@K(i) = \\frac {\\sum_{j=1}^{K}\\mathbb{1}_{r_{ij}}\\cdot Price(j)}{\\sum_{s\\in Rel_i}Price(s)}$$\n"
      ]
    },
    {
      "cell_type": "code",
      "execution_count": 2,
      "id": "34a7db81-664c-4c9b-92c0-d565fa5487fc",
      "metadata": {
        "id": "34a7db81-664c-4c9b-92c0-d565fa5487fc"
      },
      "outputs": [],
      "source": [
        "def recall_at_k(recommended_list, bought_list, k=5):\n",
        "    \n",
        "    bought_list = np.array(bought_list)\n",
        "    recommended_list = np.array(recommended_list)\n",
        "    \n",
        "    #TODO: Ваш код здесь\n",
        "    recommended_list = recommended_list[:k]\n",
        "    flags = np.isin(recommended_list, bought_list)\n",
        "    recall = flags.sum() / len(bought_list)\n",
        "    \n",
        "    return recall\n",
        "\n",
        "\n",
        "def money_recall_at_k(recommended_list, bought_list, prices_recommended, prices_bought, k=5):\n",
        "    bought_list = np.array(bought_list)\n",
        "    recommended_list = np.array(recommended_list)\n",
        "    prices_recommended = np.array(prices_recommended)\n",
        "    prices_bought = np.array(prices_bought)\n",
        "    \n",
        "    #TODO: Ваш код здесь\n",
        "    recommended_list = recommended_list[:k]\n",
        "    prices_recommended = prices_recommended[:k]\n",
        "    flags = np.isin(recommended_list, bought_list)\n",
        "    recall = (flags*prices_recommended).sum() / prices_bought.sum()\n",
        "    \n",
        "    \n",
        "    return recall"
      ]
    },
    {
      "cell_type": "code",
      "execution_count": 3,
      "id": "3b6fb479",
      "metadata": {},
      "outputs": [],
      "source": [
        "recommended_list = [143, 156, 1134, 991, 27]\n",
        "bought_list = [156, 27]\n",
        "prices_recommended = [500, 400, 300, 200, 100]\n",
        "prices_bought = [400, 100]"
      ]
    },
    {
      "cell_type": "code",
      "execution_count": 4,
      "id": "450f0dec",
      "metadata": {},
      "outputs": [
        {
          "data": {
            "text/plain": [
              "array([False,  True, False, False,  True])"
            ]
          },
          "execution_count": 4,
          "metadata": {},
          "output_type": "execute_result"
        }
      ],
      "source": [
        "flags = np.isin(recommended_list, bought_list)\n",
        "flags"
      ]
    },
    {
      "attachments": {},
      "cell_type": "markdown",
      "id": "35c051d1",
      "metadata": {},
      "source": [
        "Проверка функций:"
      ]
    },
    {
      "cell_type": "code",
      "execution_count": 5,
      "id": "94a3a6df",
      "metadata": {},
      "outputs": [
        {
          "data": {
            "text/plain": [
              "1.0"
            ]
          },
          "execution_count": 5,
          "metadata": {},
          "output_type": "execute_result"
        }
      ],
      "source": [
        "recall_at_k(recommended_list, bought_list, k=5)"
      ]
    },
    {
      "cell_type": "code",
      "execution_count": 6,
      "id": "dca1a032",
      "metadata": {},
      "outputs": [
        {
          "data": {
            "text/plain": [
              "0.5"
            ]
          },
          "execution_count": 6,
          "metadata": {},
          "output_type": "execute_result"
        }
      ],
      "source": [
        "recall_at_k(recommended_list, bought_list, k=2)"
      ]
    },
    {
      "cell_type": "code",
      "execution_count": 7,
      "id": "a361e420",
      "metadata": {},
      "outputs": [
        {
          "data": {
            "text/plain": [
              "1.0"
            ]
          },
          "execution_count": 7,
          "metadata": {},
          "output_type": "execute_result"
        }
      ],
      "source": [
        "money_recall_at_k(recommended_list, bought_list, prices_recommended, prices_bought, k=5)"
      ]
    },
    {
      "cell_type": "code",
      "execution_count": 8,
      "id": "9f8d5264",
      "metadata": {},
      "outputs": [
        {
          "data": {
            "text/plain": [
              "0.8"
            ]
          },
          "execution_count": 8,
          "metadata": {},
          "output_type": "execute_result"
        }
      ],
      "source": [
        "money_recall_at_k(recommended_list, bought_list, prices_recommended, prices_bought, k=2)"
      ]
    },
    {
      "cell_type": "markdown",
      "id": "b42d4d0d-6073-47b6-ad54-586a477405e5",
      "metadata": {
        "id": "b42d4d0d-6073-47b6-ad54-586a477405e5"
      },
      "source": [
        "## Задание 2. Реализовать метрику MRR@k\n",
        "\n",
        "Mean Reciprocal Rank\n",
        "\n",
        "- Считаем для первых k рекоммендаций\n",
        "- Найти ранк первого релевантного предсказания $\\Large rank_j$\n",
        "- Посчитать reciprocal rank = $\\Large\\frac{1}{rank_j}$\n",
        "\n",
        "$$\\Large  MMR(i)@k=\\frac {1}{\\min\\limits_{j\\in Rel(i)} rank_j}$$"
      ]
    },
    {
      "cell_type": "code",
      "execution_count": 9,
      "id": "9c8940da-3621-4a54-8236-810a42ed4b77",
      "metadata": {
        "id": "9c8940da-3621-4a54-8236-810a42ed4b77"
      },
      "outputs": [],
      "source": [
        "def mrr_at_k(recommended_list, bought_list, k=5):\n",
        "    bought_list = np.array(bought_list)\n",
        "    recommended_list = np.array(recommended_list)\n",
        "    \n",
        "    #TODO: Ваш код здесь\n",
        "    recommended_list = recommended_list[:k]\n",
        "    flags = np.isin(recommended_list, bought_list)\n",
        "    rank = np.where(flags == True)[0][0] + 1\n",
        "    mrr = 1 / rank\n",
        "    \n",
        "    return mrr"
      ]
    },
    {
      "cell_type": "code",
      "execution_count": 10,
      "id": "e1bb01db",
      "metadata": {},
      "outputs": [
        {
          "data": {
            "text/plain": [
              "0.5"
            ]
          },
          "execution_count": 10,
          "metadata": {},
          "output_type": "execute_result"
        }
      ],
      "source": [
        "mrr_at_k(recommended_list, bought_list, k=5)"
      ]
    },
    {
      "cell_type": "markdown",
      "id": "1c3008cc-fd9e-44c6-8913-43d71ffb9cd7",
      "metadata": {
        "id": "1c3008cc-fd9e-44c6-8913-43d71ffb9cd7"
      },
      "source": [
        "## Задание 3*. Реализовать метрику nDCG@k\n",
        "Normalized discounted cumulative gain. Эту метрику реализовать будет немного сложнее.\n",
        "\n",
        "$$\\Large DCG@K(i) = \\sum_{j=1}^{K}\\frac{\\mathbb{1}_{r_{ij}}}{\\log_2 (j+1)}$$\n",
        "\n",
        "\n",
        "$\\Large \\mathbb{1}_{r_{ij}}$ -- индикаторная функция показывает что пользователь $i$ провзаимодействовал с продуктом $j$\n",
        "\n",
        "Для подсчета $nDCG$ нам необходимо найти максимально возможный $DCG$ для пользователя $i$  и рекомендаций длины $K$.\n",
        "Максимальный $DCG$ достигается когда мы порекомендовали максимально возможное количество релевантных продуктов и все они в начале списка рекомендаций.\n",
        "\n",
        "$$\\Large IDCG@K(i) = max(DCG@K(i)) = \\sum_{j=1}^{K}\\frac{\\mathbb{1}_{j\\le|Rel_i|}}{\\log_2 (j+1)}$$\n",
        "\n",
        "$$\\Large nDCG@K(i) = \\frac {DCG@K(i)}{IDCG@K(i)}$$\n",
        "\n",
        "$\\Large |Rel_i|$ -- количество релевантных продуктов для пользователя $i$\n",
        "\n"
      ]
    },
    {
      "cell_type": "code",
      "execution_count": 11,
      "id": "1aa3c8ec",
      "metadata": {},
      "outputs": [
        {
          "data": {
            "text/plain": [
              "[143, 156, 1134, 991, 27]"
            ]
          },
          "execution_count": 11,
          "metadata": {},
          "output_type": "execute_result"
        }
      ],
      "source": [
        "recommended_list"
      ]
    },
    {
      "cell_type": "code",
      "execution_count": 12,
      "id": "1a4e934d",
      "metadata": {},
      "outputs": [],
      "source": [
        "bought_list = [143, 156]"
      ]
    },
    {
      "cell_type": "code",
      "execution_count": 13,
      "id": "67d7e53c-dfd8-4423-a107-f85880a45c7e",
      "metadata": {
        "id": "67d7e53c-dfd8-4423-a107-f85880a45c7e"
      },
      "outputs": [],
      "source": [
        "def ndcg_at_k(recommended_list, bought_list, k=5):\n",
        "    bought_list = np.array(bought_list)\n",
        "    recommended_list = np.array(recommended_list)\n",
        "    \n",
        "    #TODO: Ваш код здесь\n",
        "    recommended_list = recommended_list[:k]\n",
        "    flags = np.isin(recommended_list, bought_list)\n",
        "    dcg = sum([item / np.log2(num + 2) for num, item in enumerate(list(flags))])\n",
        "    ideal_dcg = sum([1 / np.log2(num + 2) for num, item in enumerate(list(flags))])\n",
        "    dcg_at_k = dcg / ideal_dcg\n",
        "    \n",
        "    return dcg_at_k"
      ]
    },
    {
      "cell_type": "code",
      "execution_count": 14,
      "id": "c3560959",
      "metadata": {},
      "outputs": [
        {
          "data": {
            "text/plain": [
              "0.5531464700081437"
            ]
          },
          "execution_count": 14,
          "metadata": {},
          "output_type": "execute_result"
        }
      ],
      "source": [
        "ndcg_at_k(recommended_list, bought_list, k=5)"
      ]
    },
    {
      "cell_type": "code",
      "execution_count": 15,
      "id": "ad851b85",
      "metadata": {},
      "outputs": [
        {
          "data": {
            "text/plain": [
              "1.0"
            ]
          },
          "execution_count": 15,
          "metadata": {},
          "output_type": "execute_result"
        }
      ],
      "source": [
        "ndcg_at_k(recommended_list, bought_list, k=2)"
      ]
    },
    {
      "cell_type": "code",
      "execution_count": 16,
      "id": "98ececb1",
      "metadata": {},
      "outputs": [],
      "source": [
        "bought_list = [156, 27]"
      ]
    },
    {
      "cell_type": "code",
      "execution_count": 17,
      "id": "342b064c",
      "metadata": {},
      "outputs": [
        {
          "data": {
            "text/plain": [
              "0.34519134224686937"
            ]
          },
          "execution_count": 17,
          "metadata": {},
          "output_type": "execute_result"
        }
      ],
      "source": [
        "ndcg_at_k(recommended_list, bought_list, k=5)"
      ]
    },
    {
      "cell_type": "code",
      "execution_count": 18,
      "id": "bc6dac3f",
      "metadata": {},
      "outputs": [
        {
          "data": {
            "text/plain": [
              "0.38685280723454163"
            ]
          },
          "execution_count": 18,
          "metadata": {},
          "output_type": "execute_result"
        }
      ],
      "source": [
        "ndcg_at_k(recommended_list, bought_list, k=2)"
      ]
    }
  ],
  "metadata": {
    "colab": {
      "provenance": []
    },
    "kernelspec": {
      "display_name": "Python 3 (ipykernel)",
      "language": "python",
      "name": "python3"
    },
    "language_info": {
      "codemirror_mode": {
        "name": "ipython",
        "version": 3
      },
      "file_extension": ".py",
      "mimetype": "text/x-python",
      "name": "python",
      "nbconvert_exporter": "python",
      "pygments_lexer": "ipython3",
      "version": "3.11.1"
    }
  },
  "nbformat": 4,
  "nbformat_minor": 5
}
